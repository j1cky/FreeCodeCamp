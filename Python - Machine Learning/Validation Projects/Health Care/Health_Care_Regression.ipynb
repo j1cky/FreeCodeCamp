{
  "cells": [
    {
      "cell_type": "markdown",
      "metadata": {},
      "source": [
        "## Libraries"
      ]
    },
    {
      "cell_type": "code",
      "execution_count": 1,
      "metadata": {
        "id": "1rRo8oNqZ-Rj"
      },
      "outputs": [
        {
          "name": "stderr",
          "output_type": "stream",
          "text": [
            "2025-01-25 18:31:56.941338: I external/local_xla/xla/tsl/cuda/cudart_stub.cc:32] Could not find cuda drivers on your machine, GPU will not be used.\n",
            "2025-01-25 18:31:56.947626: I external/local_xla/xla/tsl/cuda/cudart_stub.cc:32] Could not find cuda drivers on your machine, GPU will not be used.\n",
            "2025-01-25 18:31:56.965358: E external/local_xla/xla/stream_executor/cuda/cuda_fft.cc:477] Unable to register cuFFT factory: Attempting to register factory for plugin cuFFT when one has already been registered\n",
            "WARNING: All log messages before absl::InitializeLog() is called are written to STDERR\n",
            "E0000 00:00:1737826316.992883   21532 cuda_dnn.cc:8310] Unable to register cuDNN factory: Attempting to register factory for plugin cuDNN when one has already been registered\n",
            "E0000 00:00:1737826317.000727   21532 cuda_blas.cc:1418] Unable to register cuBLAS factory: Attempting to register factory for plugin cuBLAS when one has already been registered\n",
            "2025-01-25 18:31:57.027597: I tensorflow/core/platform/cpu_feature_guard.cc:210] This TensorFlow binary is optimized to use available CPU instructions in performance-critical operations.\n",
            "To enable the following instructions: AVX2 FMA, in other operations, rebuild TensorFlow with the appropriate compiler flags.\n"
          ]
        }
      ],
      "source": [
        "import numpy as np\n",
        "import pandas as pd\n",
        "\n",
        "try:\n",
        "  # %tensorflow_version only exists in Colab.\n",
        "  %tensorflow_version 2.x\n",
        "except Exception:\n",
        "  pass\n",
        "import tensorflow as tf\n",
        "\n",
        "from tensorflow import keras\n",
        "from tensorflow.keras import layers\n",
        "\n",
        "import tensorflow_docs as tfdocs\n",
        "import tensorflow_docs.plots\n",
        "import tensorflow_docs.modeling\n",
        "\n",
        "import matplotlib.pyplot as plt\n"
      ]
    },
    {
      "cell_type": "markdown",
      "metadata": {},
      "source": [
        "## Import data"
      ]
    },
    {
      "cell_type": "code",
      "execution_count": 2,
      "metadata": {
        "id": "CiX2FI4gZtTt"
      },
      "outputs": [
        {
          "data": {
            "text/html": [
              "<div>\n",
              "<style scoped>\n",
              "    .dataframe tbody tr th:only-of-type {\n",
              "        vertical-align: middle;\n",
              "    }\n",
              "\n",
              "    .dataframe tbody tr th {\n",
              "        vertical-align: top;\n",
              "    }\n",
              "\n",
              "    .dataframe thead th {\n",
              "        text-align: right;\n",
              "    }\n",
              "</style>\n",
              "<table border=\"1\" class=\"dataframe\">\n",
              "  <thead>\n",
              "    <tr style=\"text-align: right;\">\n",
              "      <th></th>\n",
              "      <th>age</th>\n",
              "      <th>sex</th>\n",
              "      <th>bmi</th>\n",
              "      <th>children</th>\n",
              "      <th>smoker</th>\n",
              "      <th>region</th>\n",
              "      <th>expenses</th>\n",
              "    </tr>\n",
              "  </thead>\n",
              "  <tbody>\n",
              "    <tr>\n",
              "      <th>1333</th>\n",
              "      <td>50</td>\n",
              "      <td>male</td>\n",
              "      <td>31.0</td>\n",
              "      <td>3</td>\n",
              "      <td>no</td>\n",
              "      <td>northwest</td>\n",
              "      <td>10600.55</td>\n",
              "    </tr>\n",
              "    <tr>\n",
              "      <th>1334</th>\n",
              "      <td>18</td>\n",
              "      <td>female</td>\n",
              "      <td>31.9</td>\n",
              "      <td>0</td>\n",
              "      <td>no</td>\n",
              "      <td>northeast</td>\n",
              "      <td>2205.98</td>\n",
              "    </tr>\n",
              "    <tr>\n",
              "      <th>1335</th>\n",
              "      <td>18</td>\n",
              "      <td>female</td>\n",
              "      <td>36.9</td>\n",
              "      <td>0</td>\n",
              "      <td>no</td>\n",
              "      <td>southeast</td>\n",
              "      <td>1629.83</td>\n",
              "    </tr>\n",
              "    <tr>\n",
              "      <th>1336</th>\n",
              "      <td>21</td>\n",
              "      <td>female</td>\n",
              "      <td>25.8</td>\n",
              "      <td>0</td>\n",
              "      <td>no</td>\n",
              "      <td>southwest</td>\n",
              "      <td>2007.95</td>\n",
              "    </tr>\n",
              "    <tr>\n",
              "      <th>1337</th>\n",
              "      <td>61</td>\n",
              "      <td>female</td>\n",
              "      <td>29.1</td>\n",
              "      <td>0</td>\n",
              "      <td>yes</td>\n",
              "      <td>northwest</td>\n",
              "      <td>29141.36</td>\n",
              "    </tr>\n",
              "  </tbody>\n",
              "</table>\n",
              "</div>"
            ],
            "text/plain": [
              "      age     sex   bmi  children smoker     region  expenses\n",
              "1333   50    male  31.0         3     no  northwest  10600.55\n",
              "1334   18  female  31.9         0     no  northeast   2205.98\n",
              "1335   18  female  36.9         0     no  southeast   1629.83\n",
              "1336   21  female  25.8         0     no  southwest   2007.95\n",
              "1337   61  female  29.1         0    yes  northwest  29141.36"
            ]
          },
          "execution_count": 2,
          "metadata": {},
          "output_type": "execute_result"
        }
      ],
      "source": [
        "# !wget https://cdn.freecodecamp.org/project-data/health-costs/insurance.csv\n",
        "dataset = pd.read_csv('insurance.csv')\n",
        "dataset.tail()"
      ]
    },
    {
      "cell_type": "markdown",
      "metadata": {},
      "source": [
        "## Task"
      ]
    },
    {
      "cell_type": "markdown",
      "metadata": {},
      "source": [
        "\n",
        "\n",
        "In this challenge, you will predict healthcare costs using a regression algorithm.\n",
        "\n",
        "You are given a dataset that contains information about different people including their healthcare costs. Use the data to predict healthcare costs based on new data.\n",
        "\n",
        "The first two cells of this notebook import libraries and the data.\n",
        "\n",
        "Make sure to convert categorical data to numbers. Use 80% of the data as the `train_dataset` and 20% of the data as the `test_dataset`.\n",
        "\n",
        "`pop` off the \"expenses\" column from these datasets to create new datasets called `train_labels` and `test_labels`. Use these labels when training your model.\n",
        "\n",
        "Create a model and train it with the `train_dataset`. Run the final cell in this notebook to check your model. The final cell will use the unseen `test_dataset` to check how well the model generalizes.\n",
        "\n",
        "To pass the challenge, `model.evaluate` must return a Mean Absolute Error of under 3500. This means it predicts health care costs correctly within $3500.\n",
        "\n",
        "The final cell will also predict expenses using the `test_dataset` and graph the results.\n"
      ]
    },
    {
      "cell_type": "markdown",
      "metadata": {},
      "source": [
        "##  My contribution"
      ]
    },
    {
      "cell_type": "markdown",
      "metadata": {},
      "source": [
        "### Convert categorical data to numbers"
      ]
    },
    {
      "cell_type": "code",
      "execution_count": 3,
      "metadata": {},
      "outputs": [],
      "source": [
        "# Create lists of unique values of each categorical column\n",
        "sexes   = [sex    for sex    in dataset['sex'].unique()   ]\n",
        "smokers = [smoker for smoker in dataset['smoker'].unique()]\n",
        "regions = [region for region in dataset['region'].unique()]"
      ]
    },
    {
      "cell_type": "code",
      "execution_count": 4,
      "metadata": {},
      "outputs": [],
      "source": [
        "# Create a dictionary of map assigning a unique value for each unique category of each categorical column\n",
        "sexes_map   = {sex    : sexes.index(sex)      for sex    in sexes  }\n",
        "smokers_map = {smoker : smokers.index(smoker) for smoker in smokers}\n",
        "regions_map = {region : regions.index(region) for region in regions}"
      ]
    },
    {
      "cell_type": "code",
      "execution_count": 5,
      "metadata": {},
      "outputs": [],
      "source": [
        "# Assigning the new values in te dataset\n",
        "dataset['sex'   ] = dataset['sex'].map(sexes_map)\n",
        "dataset['smoker'] = dataset['smoker'].map(smokers_map)\n",
        "dataset['region'] = dataset['region'].map(regions_map)"
      ]
    },
    {
      "cell_type": "markdown",
      "metadata": {},
      "source": [
        "### Normalize the uncategorical data"
      ]
    },
    {
      "cell_type": "code",
      "execution_count": 6,
      "metadata": {},
      "outputs": [],
      "source": [
        "# Normalize the numerical columns\n",
        "max_age      = dataset['age'].max()\n",
        "max_bmi      = dataset['bmi'].max()\n",
        "max_children = dataset['children'].max()"
      ]
    },
    {
      "cell_type": "code",
      "execution_count": 7,
      "metadata": {},
      "outputs": [],
      "source": [
        "# Normalize age and bmi\n",
        "dataset['age']      = dataset['age'] / max_age\n",
        "dataset['bmi']      = dataset['bmi'] / max_bmi\n",
        "dataset['children'] = dataset['children'] / max_children"
      ]
    },
    {
      "cell_type": "markdown",
      "metadata": {},
      "source": [
        "### Split the data"
      ]
    },
    {
      "cell_type": "code",
      "execution_count": 8,
      "metadata": {},
      "outputs": [],
      "source": [
        "# Split into train and test datasets\n",
        "train_dataset = dataset[:round(len(dataset)*0.8)]\n",
        "test_dataset  = dataset[round(len(dataset)*0.8):]"
      ]
    },
    {
      "cell_type": "code",
      "execution_count": 9,
      "metadata": {},
      "outputs": [],
      "source": [
        "# Separate features and labels\n",
        "train_labels = train_dataset.pop('expenses')\n",
        "test_labels  = test_dataset.pop('expenses')"
      ]
    },
    {
      "cell_type": "markdown",
      "metadata": {},
      "source": [
        "### Build the model"
      ]
    },
    {
      "cell_type": "code",
      "execution_count": 10,
      "metadata": {},
      "outputs": [
        {
          "name": "stderr",
          "output_type": "stream",
          "text": [
            "/home/ocr8n/Documents/GitHub/FreeCodeCamp/Python - Machine Learning/Validation Projects/Health Care/.venv/lib/python3.12/site-packages/keras/src/layers/core/dense.py:87: UserWarning: Do not pass an `input_shape`/`input_dim` argument to a layer. When using Sequential models, prefer using an `Input(shape)` object as the first layer in the model instead.\n",
            "  super().__init__(activity_regularizer=activity_regularizer, **kwargs)\n",
            "2025-01-25 18:31:59.824536: E external/local_xla/xla/stream_executor/cuda/cuda_driver.cc:152] failed call to cuInit: INTERNAL: CUDA error: Failed call to cuInit: UNKNOWN ERROR (303)\n"
          ]
        }
      ],
      "source": [
        "# Define the model\n",
        "model = keras.models.Sequential([\n",
        "    layers.Dense(128, activation='relu', input_shape=(train_dataset.shape[1],)),\n",
        "    layers.Dense(64, activation='relu'),\n",
        "    layers.Dense(32, activation='relu'),\n",
        "    layers.Dense(1)  # Output layer for regression\n",
        "])"
      ]
    },
    {
      "cell_type": "code",
      "execution_count": 11,
      "metadata": {},
      "outputs": [],
      "source": [
        "# Compile the model\n",
        "model.compile(optimizer='adam',\n",
        "              loss='mae', \n",
        "              metrics=['mae', 'mse']) \n"
      ]
    },
    {
      "cell_type": "code",
      "execution_count": 12,
      "metadata": {},
      "outputs": [
        {
          "name": "stdout",
          "output_type": "stream",
          "text": [
            "Epoch 1/100\n",
            "\u001b[1m27/27\u001b[0m \u001b[32m━━━━━━━━━━━━━━━━━━━━\u001b[0m\u001b[37m\u001b[0m \u001b[1m2s\u001b[0m 12ms/step - loss: 13684.3838 - mae: 13684.3838 - mse: 344186560.0000 - val_loss: 13262.9443 - val_mae: 13262.9443 - val_mse: 314140192.0000\n",
            "Epoch 2/100\n",
            "\u001b[1m27/27\u001b[0m \u001b[32m━━━━━━━━━━━━━━━━━━━━\u001b[0m\u001b[37m\u001b[0m \u001b[1m0s\u001b[0m 5ms/step - loss: 13362.7275 - mae: 13362.7275 - mse: 326145792.0000 - val_loss: 13246.1064 - val_mae: 13246.1064 - val_mse: 313698336.0000\n",
            "Epoch 3/100\n",
            "\u001b[1m27/27\u001b[0m \u001b[32m━━━━━━━━━━━━━━━━━━━━\u001b[0m\u001b[37m\u001b[0m \u001b[1m0s\u001b[0m 5ms/step - loss: 13069.4697 - mae: 13069.4697 - mse: 311247072.0000 - val_loss: 13156.9248 - val_mae: 13156.9248 - val_mse: 311375392.0000\n",
            "Epoch 4/100\n",
            "\u001b[1m27/27\u001b[0m \u001b[32m━━━━━━━━━━━━━━━━━━━━\u001b[0m\u001b[37m\u001b[0m \u001b[1m0s\u001b[0m 5ms/step - loss: 12590.2305 - mae: 12590.2305 - mse: 295232224.0000 - val_loss: 12845.0293 - val_mae: 12845.0293 - val_mse: 303393184.0000\n",
            "Epoch 5/100\n",
            "\u001b[1m27/27\u001b[0m \u001b[32m━━━━━━━━━━━━━━━━━━━━\u001b[0m\u001b[37m\u001b[0m \u001b[1m0s\u001b[0m 5ms/step - loss: 12455.3574 - mae: 12455.3574 - mse: 294139168.0000 - val_loss: 12028.9961 - val_mae: 12028.9961 - val_mse: 283490368.0000\n",
            "Epoch 6/100\n",
            "\u001b[1m27/27\u001b[0m \u001b[32m━━━━━━━━━━━━━━━━━━━━\u001b[0m\u001b[37m\u001b[0m \u001b[1m0s\u001b[0m 7ms/step - loss: 11590.8135 - mae: 11590.8135 - mse: 283411040.0000 - val_loss: 10536.6982 - val_mae: 10536.6982 - val_mse: 247345632.0000\n",
            "Epoch 7/100\n",
            "\u001b[1m27/27\u001b[0m \u001b[32m━━━━━━━━━━━━━━━━━━━━\u001b[0m\u001b[37m\u001b[0m \u001b[1m0s\u001b[0m 12ms/step - loss: 10267.8857 - mae: 10267.8857 - mse: 243117616.0000 - val_loss: 9126.9238 - val_mae: 9126.9238 - val_mse: 204334352.0000\n",
            "Epoch 8/100\n",
            "\u001b[1m27/27\u001b[0m \u001b[32m━━━━━━━━━━━━━━━━━━━━\u001b[0m\u001b[37m\u001b[0m \u001b[1m0s\u001b[0m 10ms/step - loss: 9140.8467 - mae: 9140.8467 - mse: 214041024.0000 - val_loss: 8542.6299 - val_mae: 8542.6299 - val_mse: 175133520.0000\n",
            "Epoch 9/100\n",
            "\u001b[1m27/27\u001b[0m \u001b[32m━━━━━━━━━━━━━━━━━━━━\u001b[0m\u001b[37m\u001b[0m \u001b[1m0s\u001b[0m 5ms/step - loss: 8447.7725 - mae: 8447.7725 - mse: 180459024.0000 - val_loss: 8484.3770 - val_mae: 8484.3770 - val_mse: 168216160.0000\n",
            "Epoch 10/100\n",
            "\u001b[1m27/27\u001b[0m \u001b[32m━━━━━━━━━━━━━━━━━━━━\u001b[0m\u001b[37m\u001b[0m \u001b[1m0s\u001b[0m 6ms/step - loss: 8440.1475 - mae: 8440.1475 - mse: 172643136.0000 - val_loss: 8440.1084 - val_mae: 8440.1084 - val_mse: 165131392.0000\n",
            "Epoch 11/100\n",
            "\u001b[1m27/27\u001b[0m \u001b[32m━━━━━━━━━━━━━━━━━━━━\u001b[0m\u001b[37m\u001b[0m \u001b[1m0s\u001b[0m 9ms/step - loss: 8538.3320 - mae: 8538.3320 - mse: 181562288.0000 - val_loss: 8393.2236 - val_mae: 8393.2236 - val_mse: 164333040.0000\n",
            "Epoch 12/100\n",
            "\u001b[1m27/27\u001b[0m \u001b[32m━━━━━━━━━━━━━━━━━━━━\u001b[0m\u001b[37m\u001b[0m \u001b[1m0s\u001b[0m 10ms/step - loss: 7815.6577 - mae: 7815.6577 - mse: 151388576.0000 - val_loss: 8352.9219 - val_mae: 8352.9219 - val_mse: 165103328.0000\n",
            "Epoch 13/100\n",
            "\u001b[1m27/27\u001b[0m \u001b[32m━━━━━━━━━━━━━━━━━━━━\u001b[0m\u001b[37m\u001b[0m \u001b[1m0s\u001b[0m 12ms/step - loss: 8725.5645 - mae: 8725.5645 - mse: 182529872.0000 - val_loss: 8301.4814 - val_mae: 8301.4814 - val_mse: 161487040.0000\n",
            "Epoch 14/100\n",
            "\u001b[1m27/27\u001b[0m \u001b[32m━━━━━━━━━━━━━━━━━━━━\u001b[0m\u001b[37m\u001b[0m \u001b[1m0s\u001b[0m 13ms/step - loss: 8266.8027 - mae: 8266.8027 - mse: 166908736.0000 - val_loss: 8254.5078 - val_mae: 8254.5078 - val_mse: 160589168.0000\n",
            "Epoch 15/100\n",
            "\u001b[1m27/27\u001b[0m \u001b[32m━━━━━━━━━━━━━━━━━━━━\u001b[0m\u001b[37m\u001b[0m \u001b[1m0s\u001b[0m 13ms/step - loss: 8298.1387 - mae: 8298.1387 - mse: 171169360.0000 - val_loss: 8204.5186 - val_mae: 8204.5186 - val_mse: 158524640.0000\n",
            "Epoch 16/100\n",
            "\u001b[1m27/27\u001b[0m \u001b[32m━━━━━━━━━━━━━━━━━━━━\u001b[0m\u001b[37m\u001b[0m \u001b[1m0s\u001b[0m 7ms/step - loss: 8134.2998 - mae: 8134.2998 - mse: 165577392.0000 - val_loss: 8152.7949 - val_mae: 8152.7949 - val_mse: 156595552.0000\n",
            "Epoch 17/100\n",
            "\u001b[1m27/27\u001b[0m \u001b[32m━━━━━━━━━━━━━━━━━━━━\u001b[0m\u001b[37m\u001b[0m \u001b[1m0s\u001b[0m 12ms/step - loss: 8359.6914 - mae: 8359.6914 - mse: 175464288.0000 - val_loss: 8100.4048 - val_mae: 8100.4048 - val_mse: 155770016.0000\n",
            "Epoch 18/100\n",
            "\u001b[1m27/27\u001b[0m \u001b[32m━━━━━━━━━━━━━━━━━━━━\u001b[0m\u001b[37m\u001b[0m \u001b[1m0s\u001b[0m 5ms/step - loss: 8112.5620 - mae: 8112.5620 - mse: 166903424.0000 - val_loss: 8045.0112 - val_mae: 8045.0112 - val_mse: 153433520.0000\n",
            "Epoch 19/100\n",
            "\u001b[1m27/27\u001b[0m \u001b[32m━━━━━━━━━━━━━━━━━━━━\u001b[0m\u001b[37m\u001b[0m \u001b[1m0s\u001b[0m 5ms/step - loss: 7918.6938 - mae: 7918.6938 - mse: 158956544.0000 - val_loss: 7986.6880 - val_mae: 7986.6880 - val_mse: 152604496.0000\n",
            "Epoch 20/100\n",
            "\u001b[1m27/27\u001b[0m \u001b[32m━━━━━━━━━━━━━━━━━━━━\u001b[0m\u001b[37m\u001b[0m \u001b[1m0s\u001b[0m 5ms/step - loss: 8446.5830 - mae: 8446.5830 - mse: 175964880.0000 - val_loss: 7923.6479 - val_mae: 7923.6479 - val_mse: 150464128.0000\n",
            "Epoch 21/100\n",
            "\u001b[1m27/27\u001b[0m \u001b[32m━━━━━━━━━━━━━━━━━━━━\u001b[0m\u001b[37m\u001b[0m \u001b[1m0s\u001b[0m 7ms/step - loss: 8051.1328 - mae: 8051.1328 - mse: 161922032.0000 - val_loss: 7858.3369 - val_mae: 7858.3369 - val_mse: 148875520.0000\n",
            "Epoch 22/100\n",
            "\u001b[1m27/27\u001b[0m \u001b[32m━━━━━━━━━━━━━━━━━━━━\u001b[0m\u001b[37m\u001b[0m \u001b[1m0s\u001b[0m 7ms/step - loss: 8060.2700 - mae: 8060.2700 - mse: 163373136.0000 - val_loss: 7788.2520 - val_mae: 7788.2520 - val_mse: 145049584.0000\n",
            "Epoch 23/100\n",
            "\u001b[1m27/27\u001b[0m \u001b[32m━━━━━━━━━━━━━━━━━━━━\u001b[0m\u001b[37m\u001b[0m \u001b[1m0s\u001b[0m 7ms/step - loss: 7606.3501 - mae: 7606.3501 - mse: 152503216.0000 - val_loss: 7717.5093 - val_mae: 7717.5093 - val_mse: 146211472.0000\n",
            "Epoch 24/100\n",
            "\u001b[1m27/27\u001b[0m \u001b[32m━━━━━━━━━━━━━━━━━━━━\u001b[0m\u001b[37m\u001b[0m \u001b[1m0s\u001b[0m 7ms/step - loss: 7972.5947 - mae: 7972.5947 - mse: 160394720.0000 - val_loss: 7630.9380 - val_mae: 7630.9380 - val_mse: 142171520.0000\n",
            "Epoch 25/100\n",
            "\u001b[1m27/27\u001b[0m \u001b[32m━━━━━━━━━━━━━━━━━━━━\u001b[0m\u001b[37m\u001b[0m \u001b[1m0s\u001b[0m 7ms/step - loss: 8100.8291 - mae: 8100.8291 - mse: 167828272.0000 - val_loss: 7535.8760 - val_mae: 7535.8760 - val_mse: 139188496.0000\n",
            "Epoch 26/100\n",
            "\u001b[1m27/27\u001b[0m \u001b[32m━━━━━━━━━━━━━━━━━━━━\u001b[0m\u001b[37m\u001b[0m \u001b[1m0s\u001b[0m 5ms/step - loss: 7671.1309 - mae: 7671.1309 - mse: 147817120.0000 - val_loss: 7431.8374 - val_mae: 7431.8374 - val_mse: 136653600.0000\n",
            "Epoch 27/100\n",
            "\u001b[1m27/27\u001b[0m \u001b[32m━━━━━━━━━━━━━━━━━━━━\u001b[0m\u001b[37m\u001b[0m \u001b[1m0s\u001b[0m 5ms/step - loss: 7235.1997 - mae: 7235.1997 - mse: 135453152.0000 - val_loss: 7319.0107 - val_mae: 7319.0107 - val_mse: 134766144.0000\n",
            "Epoch 28/100\n",
            "\u001b[1m27/27\u001b[0m \u001b[32m━━━━━━━━━━━━━━━━━━━━\u001b[0m\u001b[37m\u001b[0m \u001b[1m0s\u001b[0m 5ms/step - loss: 7056.0093 - mae: 7056.0093 - mse: 125111104.0000 - val_loss: 7189.3242 - val_mae: 7189.3242 - val_mse: 130333808.0000\n",
            "Epoch 29/100\n",
            "\u001b[1m27/27\u001b[0m \u001b[32m━━━━━━━━━━━━━━━━━━━━\u001b[0m\u001b[37m\u001b[0m \u001b[1m0s\u001b[0m 5ms/step - loss: 6869.9307 - mae: 6869.9307 - mse: 133225640.0000 - val_loss: 7043.8281 - val_mae: 7043.8281 - val_mse: 127704320.0000\n",
            "Epoch 30/100\n",
            "\u001b[1m27/27\u001b[0m \u001b[32m━━━━━━━━━━━━━━━━━━━━\u001b[0m\u001b[37m\u001b[0m \u001b[1m0s\u001b[0m 6ms/step - loss: 6827.5137 - mae: 6827.5137 - mse: 126034640.0000 - val_loss: 6872.7866 - val_mae: 6872.7866 - val_mse: 122441776.0000\n",
            "Epoch 31/100\n",
            "\u001b[1m27/27\u001b[0m \u001b[32m━━━━━━━━━━━━━━━━━━━━\u001b[0m\u001b[37m\u001b[0m \u001b[1m0s\u001b[0m 6ms/step - loss: 6784.3198 - mae: 6784.3198 - mse: 128168944.0000 - val_loss: 6675.5527 - val_mae: 6675.5527 - val_mse: 120457480.0000\n",
            "Epoch 32/100\n",
            "\u001b[1m27/27\u001b[0m \u001b[32m━━━━━━━━━━━━━━━━━━━━\u001b[0m\u001b[37m\u001b[0m \u001b[1m0s\u001b[0m 7ms/step - loss: 6299.0918 - mae: 6299.0918 - mse: 118292480.0000 - val_loss: 6443.1909 - val_mae: 6443.1909 - val_mse: 114650304.0000\n",
            "Epoch 33/100\n",
            "\u001b[1m27/27\u001b[0m \u001b[32m━━━━━━━━━━━━━━━━━━━━\u001b[0m\u001b[37m\u001b[0m \u001b[1m0s\u001b[0m 7ms/step - loss: 5795.7002 - mae: 5795.7002 - mse: 102392320.0000 - val_loss: 6162.6250 - val_mae: 6162.6250 - val_mse: 108581648.0000\n",
            "Epoch 34/100\n",
            "\u001b[1m27/27\u001b[0m \u001b[32m━━━━━━━━━━━━━━━━━━━━\u001b[0m\u001b[37m\u001b[0m \u001b[1m0s\u001b[0m 7ms/step - loss: 5998.4980 - mae: 5998.4980 - mse: 111723264.0000 - val_loss: 5819.3218 - val_mae: 5819.3218 - val_mse: 101619360.0000\n",
            "Epoch 35/100\n",
            "\u001b[1m27/27\u001b[0m \u001b[32m━━━━━━━━━━━━━━━━━━━━\u001b[0m\u001b[37m\u001b[0m \u001b[1m0s\u001b[0m 7ms/step - loss: 5623.8389 - mae: 5623.8389 - mse: 103497408.0000 - val_loss: 5423.1338 - val_mae: 5423.1338 - val_mse: 96323208.0000\n",
            "Epoch 36/100\n",
            "\u001b[1m27/27\u001b[0m \u001b[32m━━━━━━━━━━━━━━━━━━━━\u001b[0m\u001b[37m\u001b[0m \u001b[1m0s\u001b[0m 6ms/step - loss: 5391.9844 - mae: 5391.9844 - mse: 101387000.0000 - val_loss: 4918.6299 - val_mae: 4918.6299 - val_mse: 86419840.0000\n",
            "Epoch 37/100\n",
            "\u001b[1m27/27\u001b[0m \u001b[32m━━━━━━━━━━━━━━━━━━━━\u001b[0m\u001b[37m\u001b[0m \u001b[1m0s\u001b[0m 7ms/step - loss: 5018.5869 - mae: 5018.5869 - mse: 94324280.0000 - val_loss: 4455.4932 - val_mae: 4455.4932 - val_mse: 79231328.0000\n",
            "Epoch 38/100\n",
            "\u001b[1m27/27\u001b[0m \u001b[32m━━━━━━━━━━━━━━━━━━━━\u001b[0m\u001b[37m\u001b[0m \u001b[1m0s\u001b[0m 7ms/step - loss: 4144.0796 - mae: 4144.0796 - mse: 74921384.0000 - val_loss: 4022.0476 - val_mae: 4022.0476 - val_mse: 68760168.0000\n",
            "Epoch 39/100\n",
            "\u001b[1m27/27\u001b[0m \u001b[32m━━━━━━━━━━━━━━━━━━━━\u001b[0m\u001b[37m\u001b[0m \u001b[1m0s\u001b[0m 6ms/step - loss: 3743.9019 - mae: 3743.9019 - mse: 64876968.0000 - val_loss: 3788.3171 - val_mae: 3788.3171 - val_mse: 62608828.0000\n",
            "Epoch 40/100\n",
            "\u001b[1m27/27\u001b[0m \u001b[32m━━━━━━━━━━━━━━━━━━━━\u001b[0m\u001b[37m\u001b[0m \u001b[1m0s\u001b[0m 6ms/step - loss: 3303.5427 - mae: 3303.5427 - mse: 51739876.0000 - val_loss: 3668.0283 - val_mae: 3668.0283 - val_mse: 58558372.0000\n",
            "Epoch 41/100\n",
            "\u001b[1m27/27\u001b[0m \u001b[32m━━━━━━━━━━━━━━━━━━━━\u001b[0m\u001b[37m\u001b[0m \u001b[1m0s\u001b[0m 6ms/step - loss: 3372.8721 - mae: 3372.8721 - mse: 53468828.0000 - val_loss: 3635.2966 - val_mae: 3635.2966 - val_mse: 56934424.0000\n",
            "Epoch 42/100\n",
            "\u001b[1m27/27\u001b[0m \u001b[32m━━━━━━━━━━━━━━━━━━━━\u001b[0m\u001b[37m\u001b[0m \u001b[1m0s\u001b[0m 6ms/step - loss: 3779.0833 - mae: 3779.0833 - mse: 62273168.0000 - val_loss: 3615.5354 - val_mae: 3615.5354 - val_mse: 55693364.0000\n",
            "Epoch 43/100\n",
            "\u001b[1m27/27\u001b[0m \u001b[32m━━━━━━━━━━━━━━━━━━━━\u001b[0m\u001b[37m\u001b[0m \u001b[1m0s\u001b[0m 5ms/step - loss: 3659.5811 - mae: 3659.5811 - mse: 59797000.0000 - val_loss: 3640.4475 - val_mae: 3640.4475 - val_mse: 52084624.0000\n",
            "Epoch 44/100\n",
            "\u001b[1m27/27\u001b[0m \u001b[32m━━━━━━━━━━━━━━━━━━━━\u001b[0m\u001b[37m\u001b[0m \u001b[1m0s\u001b[0m 7ms/step - loss: 3543.9431 - mae: 3543.9431 - mse: 55238320.0000 - val_loss: 3604.4707 - val_mae: 3604.4707 - val_mse: 53682884.0000\n",
            "Epoch 45/100\n",
            "\u001b[1m27/27\u001b[0m \u001b[32m━━━━━━━━━━━━━━━━━━━━\u001b[0m\u001b[37m\u001b[0m \u001b[1m0s\u001b[0m 6ms/step - loss: 3533.3020 - mae: 3533.3020 - mse: 52955080.0000 - val_loss: 3608.5105 - val_mae: 3608.5105 - val_mse: 53323248.0000\n",
            "Epoch 46/100\n",
            "\u001b[1m27/27\u001b[0m \u001b[32m━━━━━━━━━━━━━━━━━━━━\u001b[0m\u001b[37m\u001b[0m \u001b[1m0s\u001b[0m 7ms/step - loss: 3361.0422 - mae: 3361.0422 - mse: 50693824.0000 - val_loss: 3583.9543 - val_mae: 3583.9543 - val_mse: 51520788.0000\n",
            "Epoch 47/100\n",
            "\u001b[1m27/27\u001b[0m \u001b[32m━━━━━━━━━━━━━━━━━━━━\u001b[0m\u001b[37m\u001b[0m \u001b[1m0s\u001b[0m 5ms/step - loss: 3439.6499 - mae: 3439.6499 - mse: 51132972.0000 - val_loss: 3563.8586 - val_mae: 3563.8586 - val_mse: 50395960.0000\n",
            "Epoch 48/100\n",
            "\u001b[1m27/27\u001b[0m \u001b[32m━━━━━━━━━━━━━━━━━━━━\u001b[0m\u001b[37m\u001b[0m \u001b[1m0s\u001b[0m 5ms/step - loss: 3291.0857 - mae: 3291.0857 - mse: 48686064.0000 - val_loss: 3587.4866 - val_mae: 3587.4866 - val_mse: 50204292.0000\n",
            "Epoch 49/100\n",
            "\u001b[1m27/27\u001b[0m \u001b[32m━━━━━━━━━━━━━━━━━━━━\u001b[0m\u001b[37m\u001b[0m \u001b[1m0s\u001b[0m 6ms/step - loss: 3586.4775 - mae: 3586.4775 - mse: 53042336.0000 - val_loss: 3545.1543 - val_mae: 3545.1543 - val_mse: 48821400.0000\n",
            "Epoch 50/100\n",
            "\u001b[1m27/27\u001b[0m \u001b[32m━━━━━━━━━━━━━━━━━━━━\u001b[0m\u001b[37m\u001b[0m \u001b[1m0s\u001b[0m 10ms/step - loss: 3447.6001 - mae: 3447.6001 - mse: 49322472.0000 - val_loss: 3542.3486 - val_mae: 3542.3486 - val_mse: 48582300.0000\n",
            "Epoch 51/100\n",
            "\u001b[1m27/27\u001b[0m \u001b[32m━━━━━━━━━━━━━━━━━━━━\u001b[0m\u001b[37m\u001b[0m \u001b[1m0s\u001b[0m 9ms/step - loss: 3418.6621 - mae: 3418.6621 - mse: 47981064.0000 - val_loss: 3525.8352 - val_mae: 3525.8352 - val_mse: 47498712.0000\n",
            "Epoch 52/100\n",
            "\u001b[1m27/27\u001b[0m \u001b[32m━━━━━━━━━━━━━━━━━━━━\u001b[0m\u001b[37m\u001b[0m \u001b[1m0s\u001b[0m 5ms/step - loss: 3525.5547 - mae: 3525.5547 - mse: 49859320.0000 - val_loss: 3528.7322 - val_mae: 3528.7322 - val_mse: 47925468.0000\n",
            "Epoch 53/100\n",
            "\u001b[1m27/27\u001b[0m \u001b[32m━━━━━━━━━━━━━━━━━━━━\u001b[0m\u001b[37m\u001b[0m \u001b[1m0s\u001b[0m 5ms/step - loss: 3318.7583 - mae: 3318.7583 - mse: 43805328.0000 - val_loss: 3508.6299 - val_mae: 3508.6299 - val_mse: 46775848.0000\n",
            "Epoch 54/100\n",
            "\u001b[1m27/27\u001b[0m \u001b[32m━━━━━━━━━━━━━━━━━━━━\u001b[0m\u001b[37m\u001b[0m \u001b[1m0s\u001b[0m 5ms/step - loss: 3216.3713 - mae: 3216.3713 - mse: 41123352.0000 - val_loss: 3509.9509 - val_mae: 3509.9509 - val_mse: 46545320.0000\n",
            "Epoch 55/100\n",
            "\u001b[1m27/27\u001b[0m \u001b[32m━━━━━━━━━━━━━━━━━━━━\u001b[0m\u001b[37m\u001b[0m \u001b[1m0s\u001b[0m 5ms/step - loss: 3194.7183 - mae: 3194.7183 - mse: 43174336.0000 - val_loss: 3492.9482 - val_mae: 3492.9482 - val_mse: 46087440.0000\n",
            "Epoch 56/100\n",
            "\u001b[1m27/27\u001b[0m \u001b[32m━━━━━━━━━━━━━━━━━━━━\u001b[0m\u001b[37m\u001b[0m \u001b[1m0s\u001b[0m 6ms/step - loss: 3292.3188 - mae: 3292.3188 - mse: 45695008.0000 - val_loss: 3493.8071 - val_mae: 3493.8071 - val_mse: 45824336.0000\n",
            "Epoch 57/100\n",
            "\u001b[1m27/27\u001b[0m \u001b[32m━━━━━━━━━━━━━━━━━━━━\u001b[0m\u001b[37m\u001b[0m \u001b[1m0s\u001b[0m 5ms/step - loss: 3313.5562 - mae: 3313.5562 - mse: 42513728.0000 - val_loss: 3492.0967 - val_mae: 3492.0967 - val_mse: 45306852.0000\n",
            "Epoch 58/100\n",
            "\u001b[1m27/27\u001b[0m \u001b[32m━━━━━━━━━━━━━━━━━━━━\u001b[0m\u001b[37m\u001b[0m \u001b[1m0s\u001b[0m 5ms/step - loss: 3313.4731 - mae: 3313.4731 - mse: 43235872.0000 - val_loss: 3472.2412 - val_mae: 3472.2412 - val_mse: 44947548.0000\n",
            "Epoch 59/100\n",
            "\u001b[1m27/27\u001b[0m \u001b[32m━━━━━━━━━━━━━━━━━━━━\u001b[0m\u001b[37m\u001b[0m \u001b[1m0s\u001b[0m 6ms/step - loss: 3337.9758 - mae: 3337.9758 - mse: 40791396.0000 - val_loss: 3470.1323 - val_mae: 3470.1323 - val_mse: 44862360.0000\n",
            "Epoch 60/100\n",
            "\u001b[1m27/27\u001b[0m \u001b[32m━━━━━━━━━━━━━━━━━━━━\u001b[0m\u001b[37m\u001b[0m \u001b[1m0s\u001b[0m 7ms/step - loss: 3618.2500 - mae: 3618.2500 - mse: 49172108.0000 - val_loss: 3459.3174 - val_mae: 3459.3174 - val_mse: 44595648.0000\n",
            "Epoch 61/100\n",
            "\u001b[1m27/27\u001b[0m \u001b[32m━━━━━━━━━━━━━━━━━━━━\u001b[0m\u001b[37m\u001b[0m \u001b[1m0s\u001b[0m 7ms/step - loss: 3034.5762 - mae: 3034.5762 - mse: 37752816.0000 - val_loss: 3451.3210 - val_mae: 3451.3210 - val_mse: 44450568.0000\n",
            "Epoch 62/100\n",
            "\u001b[1m27/27\u001b[0m \u001b[32m━━━━━━━━━━━━━━━━━━━━\u001b[0m\u001b[37m\u001b[0m \u001b[1m0s\u001b[0m 7ms/step - loss: 3004.7869 - mae: 3004.7869 - mse: 38396024.0000 - val_loss: 3447.8938 - val_mae: 3447.8938 - val_mse: 44042304.0000\n",
            "Epoch 63/100\n",
            "\u001b[1m27/27\u001b[0m \u001b[32m━━━━━━━━━━━━━━━━━━━━\u001b[0m\u001b[37m\u001b[0m \u001b[1m0s\u001b[0m 7ms/step - loss: 2994.1409 - mae: 2994.1409 - mse: 37231300.0000 - val_loss: 3434.6309 - val_mae: 3434.6309 - val_mse: 44071588.0000\n",
            "Epoch 64/100\n",
            "\u001b[1m27/27\u001b[0m \u001b[32m━━━━━━━━━━━━━━━━━━━━\u001b[0m\u001b[37m\u001b[0m \u001b[1m0s\u001b[0m 5ms/step - loss: 3236.6614 - mae: 3236.6614 - mse: 41378516.0000 - val_loss: 3486.0544 - val_mae: 3486.0544 - val_mse: 44737968.0000\n",
            "Epoch 65/100\n",
            "\u001b[1m27/27\u001b[0m \u001b[32m━━━━━━━━━━━━━━━━━━━━\u001b[0m\u001b[37m\u001b[0m \u001b[1m0s\u001b[0m 5ms/step - loss: 3445.2488 - mae: 3445.2488 - mse: 45057964.0000 - val_loss: 3422.6338 - val_mae: 3422.6338 - val_mse: 44188524.0000\n",
            "Epoch 66/100\n",
            "\u001b[1m27/27\u001b[0m \u001b[32m━━━━━━━━━━━━━━━━━━━━\u001b[0m\u001b[37m\u001b[0m \u001b[1m0s\u001b[0m 5ms/step - loss: 2982.5105 - mae: 2982.5105 - mse: 38986056.0000 - val_loss: 3414.7751 - val_mae: 3414.7751 - val_mse: 44104648.0000\n",
            "Epoch 67/100\n",
            "\u001b[1m27/27\u001b[0m \u001b[32m━━━━━━━━━━━━━━━━━━━━\u001b[0m\u001b[37m\u001b[0m \u001b[1m0s\u001b[0m 5ms/step - loss: 2959.0771 - mae: 2959.0771 - mse: 39530628.0000 - val_loss: 3412.4749 - val_mae: 3412.4749 - val_mse: 44515856.0000\n",
            "Epoch 68/100\n",
            "\u001b[1m27/27\u001b[0m \u001b[32m━━━━━━━━━━━━━━━━━━━━\u001b[0m\u001b[37m\u001b[0m \u001b[1m0s\u001b[0m 5ms/step - loss: 2997.7891 - mae: 2997.7891 - mse: 39522648.0000 - val_loss: 3403.8762 - val_mae: 3403.8762 - val_mse: 44616548.0000\n",
            "Epoch 69/100\n",
            "\u001b[1m27/27\u001b[0m \u001b[32m━━━━━━━━━━━━━━━━━━━━\u001b[0m\u001b[37m\u001b[0m \u001b[1m0s\u001b[0m 6ms/step - loss: 2949.0859 - mae: 2949.0859 - mse: 36674152.0000 - val_loss: 3421.6582 - val_mae: 3421.6582 - val_mse: 45108320.0000\n",
            "Epoch 70/100\n",
            "\u001b[1m27/27\u001b[0m \u001b[32m━━━━━━━━━━━━━━━━━━━━\u001b[0m\u001b[37m\u001b[0m \u001b[1m0s\u001b[0m 6ms/step - loss: 3228.4941 - mae: 3228.4941 - mse: 43415036.0000 - val_loss: 3386.9250 - val_mae: 3386.9250 - val_mse: 45229180.0000\n",
            "Epoch 71/100\n",
            "\u001b[1m27/27\u001b[0m \u001b[32m━━━━━━━━━━━━━━━━━━━━\u001b[0m\u001b[37m\u001b[0m \u001b[1m0s\u001b[0m 6ms/step - loss: 3141.9863 - mae: 3141.9863 - mse: 41733540.0000 - val_loss: 3391.0161 - val_mae: 3391.0161 - val_mse: 45557220.0000\n",
            "Epoch 72/100\n",
            "\u001b[1m27/27\u001b[0m \u001b[32m━━━━━━━━━━━━━━━━━━━━\u001b[0m\u001b[37m\u001b[0m \u001b[1m0s\u001b[0m 5ms/step - loss: 2956.0222 - mae: 2956.0222 - mse: 37703792.0000 - val_loss: 3374.4009 - val_mae: 3374.4009 - val_mse: 46192088.0000\n",
            "Epoch 73/100\n",
            "\u001b[1m27/27\u001b[0m \u001b[32m━━━━━━━━━━━━━━━━━━━━\u001b[0m\u001b[37m\u001b[0m \u001b[1m0s\u001b[0m 5ms/step - loss: 3157.2891 - mae: 3157.2891 - mse: 41362712.0000 - val_loss: 3374.9028 - val_mae: 3374.9028 - val_mse: 46872520.0000\n",
            "Epoch 74/100\n",
            "\u001b[1m27/27\u001b[0m \u001b[32m━━━━━━━━━━━━━━━━━━━━\u001b[0m\u001b[37m\u001b[0m \u001b[1m0s\u001b[0m 6ms/step - loss: 2939.0479 - mae: 2939.0479 - mse: 40550940.0000 - val_loss: 3378.4548 - val_mae: 3378.4548 - val_mse: 47267132.0000\n",
            "Epoch 75/100\n",
            "\u001b[1m27/27\u001b[0m \u001b[32m━━━━━━━━━━━━━━━━━━━━\u001b[0m\u001b[37m\u001b[0m \u001b[1m0s\u001b[0m 6ms/step - loss: 3135.8486 - mae: 3135.8486 - mse: 42213708.0000 - val_loss: 3364.3462 - val_mae: 3364.3462 - val_mse: 47437584.0000\n",
            "Epoch 76/100\n",
            "\u001b[1m27/27\u001b[0m \u001b[32m━━━━━━━━━━━━━━━━━━━━\u001b[0m\u001b[37m\u001b[0m \u001b[1m0s\u001b[0m 6ms/step - loss: 3125.8547 - mae: 3125.8547 - mse: 44128388.0000 - val_loss: 3364.3367 - val_mae: 3364.3364 - val_mse: 47326424.0000\n",
            "Epoch 77/100\n",
            "\u001b[1m27/27\u001b[0m \u001b[32m━━━━━━━━━━━━━━━━━━━━\u001b[0m\u001b[37m\u001b[0m \u001b[1m0s\u001b[0m 5ms/step - loss: 3138.2991 - mae: 3138.2991 - mse: 43585816.0000 - val_loss: 3348.8901 - val_mae: 3348.8901 - val_mse: 47309760.0000\n",
            "Epoch 78/100\n",
            "\u001b[1m27/27\u001b[0m \u001b[32m━━━━━━━━━━━━━━━━━━━━\u001b[0m\u001b[37m\u001b[0m \u001b[1m0s\u001b[0m 8ms/step - loss: 3168.9260 - mae: 3168.9260 - mse: 44618964.0000 - val_loss: 3352.2295 - val_mae: 3352.2295 - val_mse: 47413060.0000\n",
            "Epoch 79/100\n",
            "\u001b[1m27/27\u001b[0m \u001b[32m━━━━━━━━━━━━━━━━━━━━\u001b[0m\u001b[37m\u001b[0m \u001b[1m0s\u001b[0m 7ms/step - loss: 3002.1533 - mae: 3002.1533 - mse: 42644616.0000 - val_loss: 3344.2173 - val_mae: 3344.2173 - val_mse: 47582260.0000\n",
            "Epoch 80/100\n",
            "\u001b[1m27/27\u001b[0m \u001b[32m━━━━━━━━━━━━━━━━━━━━\u001b[0m\u001b[37m\u001b[0m \u001b[1m0s\u001b[0m 7ms/step - loss: 2550.4746 - mae: 2550.4746 - mse: 35251040.0000 - val_loss: 3349.7297 - val_mae: 3349.7297 - val_mse: 47831504.0000\n",
            "Epoch 81/100\n",
            "\u001b[1m27/27\u001b[0m \u001b[32m━━━━━━━━━━━━━━━━━━━━\u001b[0m\u001b[37m\u001b[0m \u001b[1m0s\u001b[0m 5ms/step - loss: 3120.6731 - mae: 3120.6731 - mse: 41928420.0000 - val_loss: 3334.3994 - val_mae: 3334.3994 - val_mse: 47254844.0000\n",
            "Epoch 82/100\n",
            "\u001b[1m27/27\u001b[0m \u001b[32m━━━━━━━━━━━━━━━━━━━━\u001b[0m\u001b[37m\u001b[0m \u001b[1m0s\u001b[0m 5ms/step - loss: 3022.9548 - mae: 3022.9548 - mse: 42145220.0000 - val_loss: 3336.1699 - val_mae: 3336.1699 - val_mse: 47097984.0000\n",
            "Epoch 83/100\n",
            "\u001b[1m27/27\u001b[0m \u001b[32m━━━━━━━━━━━━━━━━━━━━\u001b[0m\u001b[37m\u001b[0m \u001b[1m0s\u001b[0m 6ms/step - loss: 2925.7434 - mae: 2925.7434 - mse: 40672816.0000 - val_loss: 3331.5376 - val_mae: 3331.5376 - val_mse: 47398116.0000\n",
            "Epoch 84/100\n",
            "\u001b[1m27/27\u001b[0m \u001b[32m━━━━━━━━━━━━━━━━━━━━\u001b[0m\u001b[37m\u001b[0m \u001b[1m0s\u001b[0m 5ms/step - loss: 2503.8296 - mae: 2503.8296 - mse: 33850520.0000 - val_loss: 3337.9626 - val_mae: 3337.9626 - val_mse: 47580292.0000\n",
            "Epoch 85/100\n",
            "\u001b[1m27/27\u001b[0m \u001b[32m━━━━━━━━━━━━━━━━━━━━\u001b[0m\u001b[37m\u001b[0m \u001b[1m0s\u001b[0m 5ms/step - loss: 2636.6035 - mae: 2636.6035 - mse: 35827916.0000 - val_loss: 3323.9900 - val_mae: 3323.9900 - val_mse: 47183928.0000\n",
            "Epoch 86/100\n",
            "\u001b[1m27/27\u001b[0m \u001b[32m━━━━━━━━━━━━━━━━━━━━\u001b[0m\u001b[37m\u001b[0m \u001b[1m0s\u001b[0m 5ms/step - loss: 2899.6895 - mae: 2899.6895 - mse: 40171424.0000 - val_loss: 3319.8577 - val_mae: 3319.8577 - val_mse: 47390112.0000\n",
            "Epoch 87/100\n",
            "\u001b[1m27/27\u001b[0m \u001b[32m━━━━━━━━━━━━━━━━━━━━\u001b[0m\u001b[37m\u001b[0m \u001b[1m0s\u001b[0m 5ms/step - loss: 3256.7068 - mae: 3256.7068 - mse: 47534680.0000 - val_loss: 3332.5325 - val_mae: 3332.5325 - val_mse: 47403244.0000\n",
            "Epoch 88/100\n",
            "\u001b[1m27/27\u001b[0m \u001b[32m━━━━━━━━━━━━━━━━━━━━\u001b[0m\u001b[37m\u001b[0m \u001b[1m0s\u001b[0m 6ms/step - loss: 2909.3491 - mae: 2909.3491 - mse: 39286576.0000 - val_loss: 3324.6248 - val_mae: 3324.6248 - val_mse: 47243852.0000\n",
            "Epoch 89/100\n",
            "\u001b[1m27/27\u001b[0m \u001b[32m━━━━━━━━━━━━━━━━━━━━\u001b[0m\u001b[37m\u001b[0m \u001b[1m0s\u001b[0m 5ms/step - loss: 2768.6682 - mae: 2768.6682 - mse: 37723488.0000 - val_loss: 3328.8616 - val_mae: 3328.8616 - val_mse: 47079076.0000\n",
            "Epoch 90/100\n",
            "\u001b[1m27/27\u001b[0m \u001b[32m━━━━━━━━━━━━━━━━━━━━\u001b[0m\u001b[37m\u001b[0m \u001b[1m0s\u001b[0m 7ms/step - loss: 2954.2124 - mae: 2954.2124 - mse: 41406820.0000 - val_loss: 3311.4355 - val_mae: 3311.4355 - val_mse: 47143884.0000\n",
            "Epoch 91/100\n",
            "\u001b[1m27/27\u001b[0m \u001b[32m━━━━━━━━━━━━━━━━━━━━\u001b[0m\u001b[37m\u001b[0m \u001b[1m0s\u001b[0m 6ms/step - loss: 2983.7883 - mae: 2983.7883 - mse: 39941992.0000 - val_loss: 3335.7371 - val_mae: 3335.7371 - val_mse: 47361884.0000\n",
            "Epoch 92/100\n",
            "\u001b[1m27/27\u001b[0m \u001b[32m━━━━━━━━━━━━━━━━━━━━\u001b[0m\u001b[37m\u001b[0m \u001b[1m0s\u001b[0m 6ms/step - loss: 3028.2322 - mae: 3028.2322 - mse: 43022140.0000 - val_loss: 3302.5732 - val_mae: 3302.5732 - val_mse: 46806720.0000\n",
            "Epoch 93/100\n",
            "\u001b[1m27/27\u001b[0m \u001b[32m━━━━━━━━━━━━━━━━━━━━\u001b[0m\u001b[37m\u001b[0m \u001b[1m0s\u001b[0m 6ms/step - loss: 3011.2129 - mae: 3011.2129 - mse: 41180840.0000 - val_loss: 3314.8018 - val_mae: 3314.8018 - val_mse: 47038864.0000\n",
            "Epoch 94/100\n",
            "\u001b[1m27/27\u001b[0m \u001b[32m━━━━━━━━━━━━━━━━━━━━\u001b[0m\u001b[37m\u001b[0m \u001b[1m0s\u001b[0m 6ms/step - loss: 2840.7605 - mae: 2840.7605 - mse: 38403940.0000 - val_loss: 3299.9312 - val_mae: 3299.9312 - val_mse: 46926776.0000\n",
            "Epoch 95/100\n",
            "\u001b[1m27/27\u001b[0m \u001b[32m━━━━━━━━━━━━━━━━━━━━\u001b[0m\u001b[37m\u001b[0m \u001b[1m0s\u001b[0m 6ms/step - loss: 3043.8853 - mae: 3043.8853 - mse: 41606600.0000 - val_loss: 3302.1475 - val_mae: 3302.1475 - val_mse: 47149128.0000\n",
            "Epoch 96/100\n",
            "\u001b[1m27/27\u001b[0m \u001b[32m━━━━━━━━━━━━━━━━━━━━\u001b[0m\u001b[37m\u001b[0m \u001b[1m0s\u001b[0m 6ms/step - loss: 2991.9631 - mae: 2991.9631 - mse: 40444648.0000 - val_loss: 3297.4956 - val_mae: 3297.4956 - val_mse: 47003280.0000\n",
            "Epoch 97/100\n",
            "\u001b[1m27/27\u001b[0m \u001b[32m━━━━━━━━━━━━━━━━━━━━\u001b[0m\u001b[37m\u001b[0m \u001b[1m0s\u001b[0m 8ms/step - loss: 3018.1418 - mae: 3018.1418 - mse: 44428524.0000 - val_loss: 3290.2185 - val_mae: 3290.2185 - val_mse: 46798564.0000\n",
            "Epoch 98/100\n",
            "\u001b[1m27/27\u001b[0m \u001b[32m━━━━━━━━━━━━━━━━━━━━\u001b[0m\u001b[37m\u001b[0m \u001b[1m0s\u001b[0m 5ms/step - loss: 3228.7878 - mae: 3228.7878 - mse: 45717184.0000 - val_loss: 3307.8977 - val_mae: 3307.8977 - val_mse: 46655296.0000\n",
            "Epoch 99/100\n",
            "\u001b[1m27/27\u001b[0m \u001b[32m━━━━━━━━━━━━━━━━━━━━\u001b[0m\u001b[37m\u001b[0m \u001b[1m0s\u001b[0m 9ms/step - loss: 2895.2698 - mae: 2895.2698 - mse: 39938528.0000 - val_loss: 3296.5779 - val_mae: 3296.5779 - val_mse: 46969204.0000\n",
            "Epoch 100/100\n",
            "\u001b[1m27/27\u001b[0m \u001b[32m━━━━━━━━━━━━━━━━━━━━\u001b[0m\u001b[37m\u001b[0m \u001b[1m0s\u001b[0m 8ms/step - loss: 2995.0889 - mae: 2995.0889 - mse: 42832960.0000 - val_loss: 3296.5327 - val_mae: 3296.5327 - val_mse: 47161200.0000\n"
          ]
        }
      ],
      "source": [
        "# Train the model\n",
        "history = model.fit(\n",
        "    train_dataset, train_labels,\n",
        "    validation_split=0.2,\n",
        "    epochs=100,\n",
        "    batch_size=32,\n",
        "    verbose=1\n",
        ")"
      ]
    },
    {
      "cell_type": "markdown",
      "metadata": {},
      "source": [
        "## Test Cells"
      ]
    },
    {
      "cell_type": "code",
      "execution_count": 13,
      "metadata": {
        "id": "Xe7RXH3N3CWU"
      },
      "outputs": [
        {
          "name": "stdout",
          "output_type": "stream",
          "text": [
            "9/9 - 0s - 9ms/step - loss: 3108.6272 - mae: 3108.6272 - mse: 39288612.0000\n",
            "Testing set Mean Abs Error: 3108.63 expenses\n",
            "You passed the challenge. Great job!\n",
            "\u001b[1m9/9\u001b[0m \u001b[32m━━━━━━━━━━━━━━━━━━━━\u001b[0m\u001b[37m\u001b[0m \u001b[1m0s\u001b[0m 8ms/step \n"
          ]
        },
        {
          "data": {
            "image/png": "[encoded data removed]",
            "text/plain": [
              "<Figure size 640x480 with 1 Axes>"
            ]
          },
          "metadata": {},
          "output_type": "display_data"
        }
      ],
      "source": [
        "# RUN THIS CELL TO TEST YOUR MODEL. DO NOT MODIFY CONTENTS.\n",
        "# Test model by checking how well the model generalizes using the test set.\n",
        "loss, mae, mse = model.evaluate(test_dataset, test_labels, verbose=2)\n",
        "\n",
        "print(\"Testing set Mean Abs Error: {:5.2f} expenses\".format(mae))\n",
        "\n",
        "if mae < 3500:\n",
        "  print(\"You passed the challenge. Great job!\")\n",
        "else:\n",
        "  print(\"The Mean Abs Error must be less than 3500. Keep trying.\")\n",
        "\n",
        "# Plot predictions.\n",
        "test_predictions = model.predict(test_dataset).flatten()\n",
        "\n",
        "a = plt.axes(aspect='equal')\n",
        "plt.scatter(test_labels, test_predictions)\n",
        "plt.xlabel('True values (expenses)')\n",
        "plt.ylabel('Predictions (expenses)')\n",
        "lims = [0, 50000]\n",
        "plt.xlim(lims)\n",
        "plt.ylim(lims)\n",
        "_ = plt.plot(lims,lims)\n"
      ]
    }
  ],
  "metadata": {
    "colab": {
      "name": "fcc_predict_health_costs_with_regression.ipynb",
      "private_outputs": true,
      "provenance": [],
      "toc_visible": true
    },
    "kernelspec": {
      "display_name": ".venv",
      "language": "python",
      "name": "python3"
    },
    "language_info": {
      "codemirror_mode": {
        "name": "ipython",
        "version": 3
      },
      "file_extension": ".py",
      "mimetype": "text/x-python",
      "name": "python",
      "nbconvert_exporter": "python",
      "pygments_lexer": "ipython3",
      "version": "3.12.3"
    }
  },
  "nbformat": 4,
  "nbformat_minor": 0
}
